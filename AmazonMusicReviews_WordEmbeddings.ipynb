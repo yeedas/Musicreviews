{
  "nbformat": 4,
  "nbformat_minor": 0,
  "metadata": {
    "colab": {
      "name": "AmazonMusicReviews_WordEmbeddings.ipynb",
      "provenance": [],
      "collapsed_sections": [],
      "authorship_tag": "ABX9TyMmVETFmSTZ7twEAQsGlX+x",
      "include_colab_link": true
    },
    "kernelspec": {
      "name": "python3",
      "display_name": "Python 3"
    }
  },
  "cells": [
    {
      "cell_type": "markdown",
      "metadata": {
        "id": "view-in-github",
        "colab_type": "text"
      },
      "source": [
        "<a href=\"https://colab.research.google.com/github/yeedas/Musicreviews/blob/master/AmazonMusicReviews_WordEmbeddings.ipynb\" target=\"_parent\"><img src=\"https://colab.research.google.com/assets/colab-badge.svg\" alt=\"Open In Colab\"/></a>"
      ]
    },
    {
      "cell_type": "markdown",
      "metadata": {
        "id": "GQFAUDKr-JgC",
        "colab_type": "text"
      },
      "source": [
        "This notebook is to learn about the word embeddings. In the notebook we try sentiment analysis with the amazon music reviews dataset"
      ]
    },
    {
      "cell_type": "markdown",
      "metadata": {
        "id": "jJhXPe-_-uli",
        "colab_type": "text"
      },
      "source": [
        "Connect to the Google Drive"
      ]
    },
    {
      "cell_type": "code",
      "metadata": {
        "id": "Fm3UACof93ws",
        "colab_type": "code",
        "colab": {}
      },
      "source": [
        "from google.colab import drive"
      ],
      "execution_count": null,
      "outputs": []
    },
    {
      "cell_type": "code",
      "metadata": {
        "id": "GZA_CvZu-5DW",
        "colab_type": "code",
        "colab": {}
      },
      "source": [
        "drive.mount('/content/drive/')"
      ],
      "execution_count": null,
      "outputs": []
    },
    {
      "cell_type": "markdown",
      "metadata": {
        "id": "t8jymPzN_ka2",
        "colab_type": "text"
      },
      "source": [
        "Connect to the project files on the google drive"
      ]
    },
    {
      "cell_type": "code",
      "metadata": {
        "id": "zUO54gFzncQ8",
        "colab_type": "code",
        "colab": {}
      },
      "source": [
        "project_path = \"/content/drive/My Drive/DLCP/NLP/\""
      ],
      "execution_count": null,
      "outputs": []
    },
    {
      "cell_type": "code",
      "metadata": {
        "id": "jjqjeRp_nkEY",
        "colab_type": "code",
        "colab": {}
      },
      "source": [
        "from zipfile import ZipFile\n",
        "with ZipFile(project_path+'glove.6B.zip', 'r') as z:\n",
        "  z.extractall()"
      ],
      "execution_count": null,
      "outputs": []
    },
    {
      "cell_type": "code",
      "metadata": {
        "id": "xm_yP85Inp2e",
        "colab_type": "code",
        "colab": {}
      },
      "source": [
        "import pandas as pd\n",
        "#Load train bodies\n",
        "spam_path = project_path+'SPAM text message 20170820 - Data.csv'\n",
        "df_spam = pd.read_csv(spam_path)"
      ],
      "execution_count": null,
      "outputs": []
    },
    {
      "cell_type": "code",
      "metadata": {
        "id": "A2gD119-oPVk",
        "colab_type": "code",
        "colab": {}
      },
      "source": [
        "from sklearn.feature_extraction.text import CountVectorizer\n",
        "\n",
        "CountVector = CountVectorizer()\n",
        "X = CountVector.fit_transform(df_spam.Message)\n",
        "X = X.toarray()"
      ],
      "execution_count": null,
      "outputs": []
    },
    {
      "cell_type": "code",
      "metadata": {
        "id": "mhesXjdAoR7M",
        "colab_type": "code",
        "colab": {}
      },
      "source": [
        "from sklearn.preprocessing import LabelEncoder\n",
        "le = LabelEncoder()\n",
        "\n",
        "y = le.fit_transform(df_spam.Category)"
      ],
      "execution_count": null,
      "outputs": []
    },
    {
      "cell_type": "code",
      "metadata": {
        "id": "SGx060FcoVDm",
        "colab_type": "code",
        "colab": {}
      },
      "source": [
        "from sklearn.model_selection import train_test_split\n",
        "X_train, X_test, y_train, y_test = train_test_split(X, y, test_size=0.2, random_state = 40)\n",
        "\n",
        "[nSamp,inpShape] = X_train.shape"
      ],
      "execution_count": null,
      "outputs": []
    },
    {
      "cell_type": "code",
      "metadata": {
        "id": "w8RPn8uqoYBP",
        "colab_type": "code",
        "colab": {}
      },
      "source": [
        "print(\"X train shape \",X_train.shape)\n",
        "print(\"X test shape \",X_test.shape)\n",
        "print(\"y train shape \",y_train.shape)\n",
        "print(\"y test shape \",y_test.shape)\n",
        "\n",
        "print(nSamp,inpShape)"
      ],
      "execution_count": null,
      "outputs": []
    },
    {
      "cell_type": "code",
      "metadata": {
        "id": "ZCeCyRUAobJA",
        "colab_type": "code",
        "colab": {}
      },
      "source": [
        "rom keras.models import Sequential\n",
        "from keras.layers import Dense\n",
        "from keras.optimizers import adam\n",
        "from keras.utils import to_categorical\n",
        "\n",
        "#Create a Model\n",
        "model_cV = Sequential([\n",
        "  Dense(64, activation='relu', input_shape=(inpShape,)),\n",
        "  Dense(32, activation='relu'),\n",
        "  Dense(2, activation='softmax'),\n",
        "])\n",
        "\n",
        "# Compile the model.\n",
        "model_cV.compile(\n",
        "  optimizer='adam',\n",
        "  loss='categorical_crossentropy',\n",
        "  metrics=['accuracy'],\n",
        ")"
      ],
      "execution_count": null,
      "outputs": []
    },
    {
      "cell_type": "code",
      "metadata": {
        "id": "cAEhx9xwod42",
        "colab_type": "code",
        "colab": {}
      },
      "source": [
        "# Train the model.\n",
        "model_cV.fit(\n",
        "  X_train,\n",
        "  to_categorical(y_train),\n",
        "  epochs=5,\n",
        "  batch_size=32,\n",
        ")"
      ],
      "execution_count": null,
      "outputs": []
    },
    {
      "cell_type": "code",
      "metadata": {
        "id": "fIcEmh4uogmx",
        "colab_type": "code",
        "colab": {}
      },
      "source": [
        "model_cV.evaluate(\n",
        "  X_test,\n",
        "  to_categorical(y_test)\n",
        ")"
      ],
      "execution_count": null,
      "outputs": []
    },
    {
      "cell_type": "code",
      "metadata": {
        "id": "_bGhwQibojOT",
        "colab_type": "code",
        "colab": {}
      },
      "source": [
        "# Predict on the first 5 test messages.\n",
        "predictions = model_cV.predict(X_test[:5])\n",
        "\n",
        "# Print our model's predictions.\n",
        "print(np.argmax(predictions, axis=1)) \n",
        "\n",
        "# Check our predictions against the ground truths.\n",
        "print(y_test[:5]) "
      ],
      "execution_count": null,
      "outputs": []
    },
    {
      "cell_type": "code",
      "metadata": {
        "id": "BAFE4KWoomD9",
        "colab_type": "code",
        "colab": {}
      },
      "source": [
        "print(model_cV.summary())"
      ],
      "execution_count": null,
      "outputs": []
    }
  ]
}